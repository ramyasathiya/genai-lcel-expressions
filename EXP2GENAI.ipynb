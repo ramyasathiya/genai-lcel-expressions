{
 "cells": [
  {
   "cell_type": "code",
   "execution_count": 1,
   "id": "59457fe2",
   "metadata": {
    "height": 795
   },
   "outputs": [
    {
     "name": "stdout",
     "output_type": "stream",
     "text": [
      "Recommendation: {\n",
      "    \"destination\": \"Appalachian Trail, USA\",\n",
      "    \"activity\": \"hiking\",\n",
      "    \"cost\": \"1000\"\n",
      "}\n"
     ]
    }
   ],
   "source": [
    "from langchain.prompts import PromptTemplate\n",
    "from langchain.chains import LLMChain\n",
    "from langchain.chat_models import ChatOpenAI\n",
    "from langchain.output_parsers import ResponseSchema\n",
    "from langchain.schema.output_parser import StrOutputParser\n",
    "\n",
    "# Define the PromptTemplate\n",
    "prompt = PromptTemplate(\n",
    "    template=\"\"\"\n",
    "You are a travel assistant. Based on the following inputs, recommend a destination:\n",
    "- Preferred activity: {activity}\n",
    "- Budget (in USD): {budget}\n",
    "\n",
    "Provide a response strictly in JSON format:\n",
    "{{\n",
    "    \"destination\": \"<destination>\",\n",
    "    \"activity\": \"<activity>\",\n",
    "    \"cost\": \"<cost>\"\n",
    "}}\n",
    "\"\"\",\n",
    "    input_variables=[\"activity\", \"budget\"],\n",
    ")\n",
    "\n",
    "# Define the Output Parser\n",
    "response_schemas = [\n",
    "    ResponseSchema(name=\"destination\", description=\"Recommended travel destination\"),\n",
    "    ResponseSchema(name=\"activity\", description=\"Suggested activity at the destination\"),\n",
    "    ResponseSchema(name=\"cost\", description=\"Estimated cost in USD for the trip\"),\n",
    "]\n",
    "output_parser = StrOutputParser()\n",
    "\n",
    "# Initialize the LLM\n",
    "llm = ChatOpenAI(model=\"gpt-4-0613\", temperature=0)\n",
    "\n",
    "# Create the LangChain Expression (LLM Chain)\n",
    "chain = LLMChain(llm=llm, prompt=prompt, output_parser=output_parser)\n",
    "\n",
    "# Test the chain with an example\n",
    "input_data = {\"activity\": \"hiking\", \"budget\": 1000}\n",
    "result = chain.run(input_data)\n",
    "\n",
    "# Parse the structured output\n",
    "parsed_result = output_parser.parse(result)\n",
    "\n",
    "# Display the result\n",
    "print(\"Recommendation:\", parsed_result)"
   ]
  },
  {
   "cell_type": "code",
   "execution_count": null,
   "id": "498243ce",
   "metadata": {
    "height": 30
   },
   "outputs": [],
   "source": []
  }
 ],
 "metadata": {
  "kernelspec": {
   "display_name": "Python 3 (ipykernel)",
   "language": "python",
   "name": "python3"
  },
  "language_info": {
   "codemirror_mode": {
    "name": "ipython",
    "version": 3
   },
   "file_extension": ".py",
   "mimetype": "text/x-python",
   "name": "python",
   "nbconvert_exporter": "python",
   "pygments_lexer": "ipython3",
   "version": "3.9.19"
  }
 },
 "nbformat": 4,
 "nbformat_minor": 5
}
